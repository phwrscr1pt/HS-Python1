{
 "cells": [
  {
   "cell_type": "markdown",
   "id": "3ed4bb20",
   "metadata": {},
   "source": [
    "Hello KUB"
   ]
  },
  {
   "cell_type": "code",
   "execution_count": 2,
   "id": "f20ea665",
   "metadata": {},
   "outputs": [
    {
     "name": "stdout",
     "output_type": "stream",
     "text": [
      "Hello ,World!\n"
     ]
    }
   ],
   "source": [
    "print(\"Hello ,World!\")"
   ]
  },
  {
   "cell_type": "code",
   "execution_count": 4,
   "id": "82809cda",
   "metadata": {},
   "outputs": [
    {
     "data": {
      "text/plain": [
       "True"
      ]
     },
     "execution_count": 4,
     "metadata": {},
     "output_type": "execute_result"
    }
   ],
   "source": [
    "#Primitive Data Types\n",
    "# int\n",
    "1,2,0,-5\n",
    "\n",
    "# float\n",
    "1.5,0.0,-3.4\n",
    "\n",
    "# string -> str\n",
    "\"Hello\",\"KUB\",'a',\"1234\"\n",
    "# multi-line string\n",
    "\"\"\"\n",
    "Hello \n",
    "My name is ...\n",
    "\"\"\"\n",
    "str(456)  # convert to string -> '456' => str\n",
    "\n",
    "# boolean -> bool\n",
    "True, False\n",
    "bool(1)  # True\n",
    "bool(0)  # False\n",
    "bool(\"\") # False\n",
    "bool(\"abc\") # True\n",
    "\n",
    "# None Type -> NoneType\n",
    "None\n",
    "type(None)  # <class 'NoneType'>\n"
   ]
  },
  {
   "cell_type": "code",
   "execution_count": 12,
   "id": "c69b4278",
   "metadata": {},
   "outputs": [
    {
     "name": "stdout",
     "output_type": "stream",
     "text": [
      "<class 'int'>\n",
      "False\n",
      "True\n"
     ]
    }
   ],
   "source": [
    "print(type(-0))\n",
    "#isinstance(-0, int)\n",
    "print(isinstance(-0, str))\n",
    "print(isinstance(False, int)) # True because bool is subclass of int (1 for True, 0 for False)"
   ]
  },
  {
   "cell_type": "code",
   "execution_count": 8,
   "id": "8e684089",
   "metadata": {},
   "outputs": [
    {
     "name": "stdout",
     "output_type": "stream",
     "text": [
      "True\n",
      "False\n",
      "True\n",
      "True\n",
      "False\n"
     ]
    }
   ],
   "source": [
    "print(bool(\"Hello KUB\")) # True\n",
    "print(bool(\"\")) # False\n",
    "print(bool(100)) # True\n",
    "print(bool(\" \")) # True\n",
    "print(bool(0.0)) # False"
   ]
  },
  {
   "cell_type": "code",
   "execution_count": 13,
   "id": "3091afb3",
   "metadata": {},
   "outputs": [],
   "source": [
    "# snake_case\n",
    "my_variable = 10  # snake_case (Underscore between words) ***use this in python\n",
    "\n",
    "# camelCase\n",
    "myVariable = 20  # camelCase (Next word starts with Capital letter) use for variable and function names (javascript style)\n",
    "\n",
    "# PascalCase For Class Names\n",
    "MyClassName = \"This is class name\" # Each word starts with Capital letter"
   ]
  },
  {
   "cell_type": "code",
   "execution_count": null,
   "id": "9d2c78a6",
   "metadata": {},
   "outputs": [],
   "source": [
    "name = \"\"\n",
    "Name = \"\" # Ok but not recommended\n",
    "x = 2 # Ok but not recommended\n",
    "\n",
    "# 1bangkok = \"city\" # invalid variable name\n",
    "_1bangkok = \"city\" # valid variable name OK but not usually used\n",
    "\n",
    "# Reserved Keywords in Python (not allowed as variable names)\n",
    "# False = ''\n",
    "# int = ''\n",
    "# or = ''\n",
    "# and = ''\n",
    "# if = ''"
   ]
  },
  {
   "cell_type": "code",
   "execution_count": 18,
   "id": "b5a55a01",
   "metadata": {},
   "outputs": [
    {
     "name": "stdout",
     "output_type": "stream",
     "text": [
      "['False', 'None', 'True', 'and', 'as', 'assert', 'async', 'await', 'break', 'class', 'continue', 'def', 'del', 'elif', 'else', 'except', 'finally', 'for', 'from', 'global', 'if', 'import', 'in', 'is', 'lambda', 'nonlocal', 'not', 'or', 'pass', 'raise', 'return', 'try', 'while', 'with', 'yield']\n",
      "35\n",
      "True\n",
      "False\n"
     ]
    }
   ],
   "source": [
    "import keyword\n",
    "print(keyword.kwlist)  # List of reserved keywords in Python\n",
    "print(len(keyword.kwlist))  # Number of reserved keywords in Python\n",
    "print(keyword.iskeyword(\"for\"))  # True\n",
    "print(keyword.iskeyword(\"hello\"))  # False"
   ]
  },
  {
   "cell_type": "markdown",
   "id": "69fde14a",
   "metadata": {},
   "source": [
    "##PEP8 Styling\n",
    "- Style Guide for Python Code (Python Enhancement Proposal)\n",
    "'x = 4' NOT x=4\n",
    "snake_case naming variable\n",
    "Each line should contain only 60-79 characters, 66 is ideal"
   ]
  },
  {
   "cell_type": "code",
   "execution_count": 28,
   "id": "288e1b9c",
   "metadata": {},
   "outputs": [
    {
     "name": "stdout",
     "output_type": "stream",
     "text": [
      " alaskdjflskdfjl;sakkdfjlaskdjflaskjdflaskdjf;laskdfjlskjslakdfj;lkalsdfasdlkjfasdf\n",
      "\n"
     ]
    }
   ],
   "source": [
    "print(\"\"\" alaskdjflskdfjl;sakkdfjlaskdjflaskjdflaskdjf\\\n",
    ";laskdfjlskjslakdfj;lk\\\n",
    "alsdfasdlkjfasdf\n",
    "\"\"\")\n",
    "# Not in PEP8 style guide"
   ]
  },
  {
   "cell_type": "code",
   "execution_count": 26,
   "id": "b4f00989",
   "metadata": {},
   "outputs": [
    {
     "name": "stdout",
     "output_type": "stream",
     "text": [
      "100\n"
     ]
    }
   ],
   "source": [
    "KKKKKKKKKKKKKKKKKKKKKKKKKKK_score = 100\n",
    "if KKKKKKKKKKKKKKKKKKKKKKKKKKK_score \\\n",
    "    < KKKKKKKKKKKKKKKKKKKKKKKKKKK_score + 1:\n",
    "    print(KKKKKKKKKKKKKKKKKKKKKKKKKKK_score)\n",
    "# Not in PEP8 style guide"
   ]
  },
  {
   "cell_type": "markdown",
   "id": "c07f1e7e",
   "metadata": {},
   "source": [
    "## Input"
   ]
  },
  {
   "cell_type": "code",
   "execution_count": null,
   "id": "76dd45b5",
   "metadata": {},
   "outputs": [
    {
     "data": {
      "text/plain": [
       "'iiii'"
      ]
     },
     "execution_count": 29,
     "metadata": {},
     "output_type": "execute_result"
    }
   ],
   "source": [
    "input() # Can input some prompt to user"
   ]
  }
 ],
 "metadata": {
  "kernelspec": {
   "display_name": "Python 3",
   "language": "python",
   "name": "python3"
  },
  "language_info": {
   "codemirror_mode": {
    "name": "ipython",
    "version": 3
   },
   "file_extension": ".py",
   "mimetype": "text/x-python",
   "name": "python",
   "nbconvert_exporter": "python",
   "pygments_lexer": "ipython3",
   "version": "3.13.5"
  }
 },
 "nbformat": 4,
 "nbformat_minor": 5
}
